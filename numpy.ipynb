{
 "cells": [
  {
   "cell_type": "markdown",
   "id": "aa453e25-7d16-4497-8540-4e234f085ac3",
   "metadata": {},
   "source": [
    "# NUMerical PYthon"
   ]
  },
  {
   "cell_type": "code",
   "execution_count": null,
   "id": "198a4c71-7db3-43a7-b815-406983885a1e",
   "metadata": {},
   "outputs": [],
   "source": [
    "import numpy as np\n",
    "a=np.array([1,2,3])\n",
    "print(a)"
   ]
  },
  {
   "cell_type": "code",
   "execution_count": null,
   "id": "ce590373-9998-4879-9b34-1c0dc5c6222c",
   "metadata": {},
   "outputs": [],
   "source": [
    "import numpy as np\n",
    "a=np.array([[1,2,3],[4,5,6],[7,8,])\n",
    "print(a)"
   ]
  },
  {
   "cell_type": "code",
   "execution_count": 12,
   "id": "067a7f75-acda-44f3-bd96-1d8d30465afc",
   "metadata": {},
   "outputs": [
    {
     "name": "stdout",
     "output_type": "stream",
     "text": [
      "[2 3 4 5]\n",
      "[1 2 3 4 5 6 7 8]\n"
     ]
    }
   ],
   "source": [
    "import numpy as np\n",
    "a=np.array([1,2,3,4,5,6,7,8])\n",
    "print(a[1:5])\n",
    "print(a)"
   ]
  },
  {
   "cell_type": "code",
   "execution_count": 17,
   "id": "45596b1c-224a-486e-977f-fc4a2bc18eea",
   "metadata": {},
   "outputs": [
    {
     "name": "stdout",
     "output_type": "stream",
     "text": [
      "[1 2 3 4 5 6 7 8]\n",
      "[1 2 3]\n",
      "[1 2 3 4 5]\n"
     ]
    }
   ],
   "source": [
    "import numpy as np\n",
    "b=np.array([1,2,3,4,5,6,7,8])\n",
    "print(b)\n",
    "b=b[0:5]\n",
    "print(b[0:3])\n",
    "print(b)"
   ]
  },
  {
   "cell_type": "code",
   "execution_count": 15,
   "id": "bdc32f1e-de2b-4163-84ba-c57aa35bf45c",
   "metadata": {},
   "outputs": [
    {
     "name": "stdout",
     "output_type": "stream",
     "text": [
      "int64\n"
     ]
    }
   ],
   "source": [
    "print(b.dtype)"
   ]
  },
  {
   "cell_type": "markdown",
   "id": "753a870c-ae06-4879-9195-d5d6932e49b2",
   "metadata": {},
   "source": [
    "# Indexing Array"
   ]
  },
  {
   "cell_type": "code",
   "execution_count": 18,
   "id": "fb4ca5e9-0997-493a-b8ad-d25d50adb730",
   "metadata": {},
   "outputs": [
    {
     "name": "stdout",
     "output_type": "stream",
     "text": [
      "3\n"
     ]
    }
   ],
   "source": [
    "import numpy as np\n",
    "a=np.array([1,2,3,4,5,6])\n",
    "print(a[2])"
   ]
  },
  {
   "cell_type": "code",
   "execution_count": 22,
   "id": "a3b5936b-92c2-48af-ad18-f420db2fb48f",
   "metadata": {},
   "outputs": [
    {
     "name": "stdout",
     "output_type": "stream",
     "text": [
      "[ 0  2  4  6  8 10 12 14 16 18]\n"
     ]
    }
   ],
   "source": [
    "n=np.arange(0,20,2)\n",
    "print(n)"
   ]
  },
  {
   "cell_type": "markdown",
   "id": "7a5d2d35-b989-4991-a446-669c79863f8f",
   "metadata": {},
   "source": [
    "# Copy & view\n"
   ]
  },
  {
   "cell_type": "code",
   "execution_count": 30,
   "id": "657a0907-e354-4d9b-9ca4-9c9f879391de",
   "metadata": {},
   "outputs": [
    {
     "name": "stdout",
     "output_type": "stream",
     "text": [
      "updated  [ 1  2 10  4  5  6]\n",
      "copied  [ 1  2 10  4  5  6]\n",
      "view  [1 2 3 4 5 6]\n"
     ]
    }
   ],
   "source": [
    "import numpy as np\n",
    "a=np.array([1,2,3,4,5,6])\n",
    "x=a.view() #view - copy and update if original or current arr update - interlinked\n",
    "k=a.copy() #copy copy as it is - not update even original arr update \n",
    "a[2]=10\n",
    "print(\"updated \",a)\n",
    "print(\"copied \",x) \n",
    "print(\"view \",k)\n"
   ]
  },
  {
   "cell_type": "markdown",
   "id": "2e1eaaa8-450d-4019-b2bc-1497224f6846",
   "metadata": {},
   "source": [
    "# Fancy Indexing"
   ]
  },
  {
   "cell_type": "markdown",
   "id": "88cbb97b-f2a4-468c-a1e5-b8b77f568721",
   "metadata": {},
   "source": [
    "# add"
   ]
  },
  {
   "cell_type": "code",
   "execution_count": 32,
   "id": "ed54e2fb-2b9b-4e34-80f3-2245310fae57",
   "metadata": {},
   "outputs": [
    {
     "name": "stdout",
     "output_type": "stream",
     "text": [
      "[ 6  8 10 12]\n"
     ]
    }
   ],
   "source": [
    "i=np.array([1,2,3,4])\n",
    "j=np.array([5,6,7,8])\n",
    "res=np.add(i,j)\n",
    "print(res)"
   ]
  },
  {
   "cell_type": "markdown",
   "id": "380e6f17-a928-4d72-a152-219985c4053e",
   "metadata": {},
   "source": [
    "# numpy Broadcasting"
   ]
  },
  {
   "cell_type": "code",
   "execution_count": 38,
   "id": "bdfe0787-ecb6-49b3-83ca-99c2cf82bead",
   "metadata": {},
   "outputs": [
    {
     "name": "stdout",
     "output_type": "stream",
     "text": [
      "[[ 6  7  8  9]\n",
      " [ 7  8  9 10]\n",
      " [ 8  9 10 11]\n",
      " [ 9 10 11 12]]\n"
     ]
    }
   ],
   "source": [
    "i=np.array([1,2,3,4])\n",
    "j=np.array([[5],[6],[7],[8]])\n",
    "res=i+j\n",
    "print(res)"
   ]
  },
  {
   "cell_type": "markdown",
   "id": "2b6c0f06-d720-4744-a4a1-c726d8fcf3af",
   "metadata": {},
   "source": [
    "# Scholar"
   ]
  },
  {
   "cell_type": "code",
   "execution_count": 40,
   "id": "01272883-b28c-4032-8b8a-a9547e5e578d",
   "metadata": {},
   "outputs": [
    {
     "name": "stdout",
     "output_type": "stream",
     "text": [
      "[6 7 8 9]\n"
     ]
    }
   ],
   "source": [
    "i=np.array([1,2,3,4])\n",
    "j=5  #scholar - add a num  to individual ele to arr\n",
    "res=i+j\n",
    "print(res)"
   ]
  },
  {
   "cell_type": "code",
   "execution_count": 52,
   "id": "133ab4dc-8692-4403-b239-e1ba8af19e7f",
   "metadata": {},
   "outputs": [
    {
     "name": "stdin",
     "output_type": "stream",
     "text": [
      "enter num table : 2\n"
     ]
    },
    {
     "ename": "UFuncTypeError",
     "evalue": "ufunc 'multiply' did not contain a loop with signature matching types (dtype('int64'), dtype('<U1')) -> None",
     "output_type": "error",
     "traceback": [
      "\u001b[0;31m---------------------------------------------------------------------------\u001b[0m",
      "\u001b[0;31mUFuncTypeError\u001b[0m                            Traceback (most recent call last)",
      "Cell \u001b[0;32mIn[52], line 3\u001b[0m\n\u001b[1;32m      1\u001b[0m l\u001b[38;5;241m=\u001b[39mnp\u001b[38;5;241m.\u001b[39marange(\u001b[38;5;241m1\u001b[39m,\u001b[38;5;241m11\u001b[39m)\n\u001b[1;32m      2\u001b[0m m\u001b[38;5;241m=\u001b[39m\u001b[38;5;28minput\u001b[39m(\u001b[38;5;124m\"\u001b[39m\u001b[38;5;124menter num table :\u001b[39m\u001b[38;5;124m\"\u001b[39m)\n\u001b[0;32m----> 3\u001b[0m n\u001b[38;5;241m=\u001b[39ml\u001b[38;5;241m*\u001b[39mm\n\u001b[1;32m      4\u001b[0m \u001b[38;5;28mprint\u001b[39m(n)\n",
      "\u001b[0;31mUFuncTypeError\u001b[0m: ufunc 'multiply' did not contain a loop with signature matching types (dtype('int64'), dtype('<U1')) -> None"
     ]
    }
   ],
   "source": [
    "l=np.arange(1,11)\n",
    "m=input(\"enter num table :\")\n",
    "n=l*m\n",
    "print(n)"
   ]
  },
  {
   "cell_type": "code",
   "execution_count": null,
   "id": "02a94ab4-00cb-41a2-be5f-f836eab9c31a",
   "metadata": {},
   "outputs": [],
   "source": []
  }
 ],
 "metadata": {
  "kernelspec": {
   "display_name": "Python 3 (ipykernel)",
   "language": "python",
   "name": "python3"
  },
  "language_info": {
   "codemirror_mode": {
    "name": "ipython",
    "version": 3
   },
   "file_extension": ".py",
   "mimetype": "text/x-python",
   "name": "python",
   "nbconvert_exporter": "python",
   "pygments_lexer": "ipython3",
   "version": "3.11.7"
  }
 },
 "nbformat": 4,
 "nbformat_minor": 5
}
