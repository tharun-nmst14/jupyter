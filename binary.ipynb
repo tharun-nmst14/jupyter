{
 "cells": [
  {
   "cell_type": "markdown",
   "id": "4707f977-f09a-41ed-a09b-a84dcd7baa2d",
   "metadata": {},
   "source": [
    "# sorting"
   ]
  },
  {
   "cell_type": "code",
   "execution_count": 7,
   "id": "9bca444f-6920-4907-99ce-3d6b89429533",
   "metadata": {},
   "outputs": [
    {
     "name": "stdin",
     "output_type": "stream",
     "text": [
      "enter num : 2\n",
      "enter num : 9\n",
      "enter num : 3\n",
      "enter num : 7\n",
      "enter num : 5\n"
     ]
    },
    {
     "name": "stdout",
     "output_type": "stream",
     "text": [
      "before ['2', '9', '3', '7', '5']\n",
      "length 5\n",
      "after ['2', '3', '5', '7', '9']\n"
     ]
    }
   ],
   "source": [
    "\n",
    "\n",
    "def arr(a):\n",
    "    print(\"before\",a)\n",
    "    l=len(a)\n",
    "    print('length',l)\n",
    "    for i in range(0,l):\n",
    "        for j in range(i+1,l):\n",
    "            if(a[i]>a[j]):\n",
    "                c=a[i]\n",
    "                a[i]=a[j]\n",
    "                a[j]=c\n",
    "    print('after',a)\n",
    "for k in range(5):\n",
    "    a[k]=input(\"enter num :\")\n",
    "arr(a)        "
   ]
  },
  {
   "cell_type": "markdown",
   "id": "c7f93b3e-2f5e-462b-bc97-55ea779494b3",
   "metadata": {},
   "source": [
    "# Math Table\n"
   ]
  },
  {
   "cell_type": "code",
   "execution_count": 15,
   "id": "8b678528-9734-4eda-92a3-ee5e2a9f9f1c",
   "metadata": {},
   "outputs": [
    {
     "name": "stdout",
     "output_type": "stream",
     "text": [
      "10 x 1 = 10\n",
      "10 x 2 = 20\n",
      "10 x 3 = 30\n",
      "10 x 4 = 40\n",
      "10 x 5 = 50\n"
     ]
    }
   ],
   "source": [
    "def table(n):\n",
    "    for i in range(1,6):\n",
    "        print(str(n)+' x '+str(i)+' = '+str(i*n))\n",
    "n=10\n",
    "table(n)"
   ]
  },
  {
   "cell_type": "code",
   "execution_count": 23,
   "id": "4ca26a9c-f756-4b73-b1fb-78fc39d9ffc0",
   "metadata": {},
   "outputs": [
    {
     "name": "stdin",
     "output_type": "stream",
     "text": [
      "enter 1 max 0r 2 min :  1\n"
     ]
    },
    {
     "name": "stdout",
     "output_type": "stream",
     "text": [
      "invalid\n"
     ]
    }
   ],
   "source": [
    "def check(list):\n",
    "    k=input('enter 1 max 0r 2 min : ')\n",
    "    if (k == 1) : \n",
    "        \n",
    "        print('max',max(list))        \n",
    "    elif (k==2) : \n",
    "        print('min',min(list))\n",
    "    else : \n",
    "        print('invalid')\n",
    "\n",
    "list=[1,4,6,3]\n",
    "check(list)"
   ]
  },
  {
   "cell_type": "markdown",
   "id": "a65e6218-aa79-4f6a-ae7f-947c23c2a793",
   "metadata": {},
   "source": [
    "# Binary Search"
   ]
  },
  {
   "cell_type": "code",
   "execution_count": null,
   "id": "f8e680dd-af0b-4862-9e32-332c19a14e9f",
   "metadata": {},
   "outputs": [],
   "source": [
    "for i in range(5):\n",
    "    bs[i]=input("
   ]
  }
 ],
 "metadata": {
  "kernelspec": {
   "display_name": "Python 3 (ipykernel)",
   "language": "python",
   "name": "python3"
  },
  "language_info": {
   "codemirror_mode": {
    "name": "ipython",
    "version": 3
   },
   "file_extension": ".py",
   "mimetype": "text/x-python",
   "name": "python",
   "nbconvert_exporter": "python",
   "pygments_lexer": "ipython3",
   "version": "3.11.7"
  }
 },
 "nbformat": 4,
 "nbformat_minor": 5
}
